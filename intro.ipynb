{
 "cells": [
  {
   "cell_type": "code",
   "execution_count": 1,
   "metadata": {
    "collapsed": true,
    "ExecuteTime": {
     "end_time": "2023-09-06T18:44:01.856991451Z",
     "start_time": "2023-09-06T18:44:00.319626642Z"
    }
   },
   "outputs": [],
   "source": [
    "import numpy as np\n",
    "\n",
    "from Memory.MemoryEncoder import MemoryEncoder\n",
    "from Memory.MemoryDecoder import MemoryDecoder\n",
    "import torch\n",
    "import matplotlib.pyplot as plt"
   ]
  },
  {
   "cell_type": "code",
   "execution_count": null,
   "outputs": [],
   "source": [
    "m = MemoryEncoder()\n",
    "de = MemoryDecoder(m.ann_input_size((3, 100, 100)), m.cnn_output_size((3, 100, 100)))"
   ],
   "metadata": {
    "collapsed": false
   }
  },
  {
   "cell_type": "code",
   "execution_count": null,
   "outputs": [],
   "source": [
    "# image = torch.rand((1, 3, 100, 100))\n",
    "image = torch.randint(0, 255, (1, 3, 100, 100))\n",
    "encoded = m.encode_image(image.type(torch.float))\n",
    "print(encoded)"
   ],
   "metadata": {
    "collapsed": false
   }
  },
  {
   "cell_type": "code",
   "execution_count": null,
   "outputs": [],
   "source": [
    "image[0, :, 0, 0]"
   ],
   "metadata": {
    "collapsed": false
   }
  },
  {
   "cell_type": "code",
   "execution_count": null,
   "outputs": [],
   "source": [
    "plt.imshow(np.stack(*image, axis=-1))\n",
    "plt.show()"
   ],
   "metadata": {
    "collapsed": false
   }
  },
  {
   "cell_type": "code",
   "execution_count": null,
   "outputs": [],
   "source": [
    "plt.imshow(np.stack(*de.decode_image(encoded).detach().numpy(), axis=-1))"
   ],
   "metadata": {
    "collapsed": false
   }
  },
  {
   "cell_type": "code",
   "execution_count": 2,
   "outputs": [],
   "source": [
    "from Memory.Memory import Memory"
   ],
   "metadata": {
    "collapsed": false,
    "ExecuteTime": {
     "end_time": "2023-09-06T18:44:01.983430627Z",
     "start_time": "2023-09-06T18:44:01.860366445Z"
    }
   }
  },
  {
   "cell_type": "code",
   "execution_count": 3,
   "outputs": [
    {
     "ename": "RuntimeError",
     "evalue": "[enforce fail at alloc_cpu.cpp:75] err == 0. DefaultCPUAllocator: can't allocate memory: you tried to allocate 38666371072 bytes. Error code 12 (Cannot allocate memory)",
     "output_type": "error",
     "traceback": [
      "\u001B[0;31m---------------------------------------------------------------------------\u001B[0m",
      "\u001B[0;31mRuntimeError\u001B[0m                              Traceback (most recent call last)",
      "Cell \u001B[0;32mIn[3], line 1\u001B[0m\n\u001B[0;32m----> 1\u001B[0m memo \u001B[38;5;241m=\u001B[39m \u001B[43mMemory\u001B[49m\u001B[43m(\u001B[49m\u001B[43m_size\u001B[49m\u001B[38;5;241;43m=\u001B[39;49m\u001B[43m(\u001B[49m\u001B[38;5;241;43m3\u001B[39;49m\u001B[43m,\u001B[49m\u001B[43m \u001B[49m\u001B[38;5;241;43m480\u001B[39;49m\u001B[43m,\u001B[49m\u001B[43m \u001B[49m\u001B[38;5;241;43m640\u001B[39;49m\u001B[43m)\u001B[49m\u001B[43m)\u001B[49m\n",
      "File \u001B[0;32m~/Desktop/Research/Memory/Memory.py:13\u001B[0m, in \u001B[0;36mMemory.__init__\u001B[0;34m(self, _size)\u001B[0m\n\u001B[1;32m     12\u001B[0m \u001B[38;5;28;01mdef\u001B[39;00m \u001B[38;5;21m__init__\u001B[39m(\u001B[38;5;28mself\u001B[39m, _size\u001B[38;5;241m=\u001B[39m(\u001B[38;5;241m3\u001B[39m, \u001B[38;5;241m100\u001B[39m, \u001B[38;5;241m100\u001B[39m)):\n\u001B[0;32m---> 13\u001B[0m     \u001B[38;5;28mself\u001B[39m\u001B[38;5;241m.\u001B[39mencoder \u001B[38;5;241m=\u001B[39m \u001B[43mMemoryEncoder\u001B[49m\u001B[43m(\u001B[49m\u001B[43m_size\u001B[49m\u001B[43m)\u001B[49m\n\u001B[1;32m     14\u001B[0m     \u001B[38;5;28mself\u001B[39m\u001B[38;5;241m.\u001B[39mdecoder \u001B[38;5;241m=\u001B[39m MemoryDecoder(\n\u001B[1;32m     15\u001B[0m         \u001B[38;5;28mself\u001B[39m\u001B[38;5;241m.\u001B[39mencoder\u001B[38;5;241m.\u001B[39mann_input_size(_size),\n\u001B[1;32m     16\u001B[0m         \u001B[38;5;28mself\u001B[39m\u001B[38;5;241m.\u001B[39mencoder\u001B[38;5;241m.\u001B[39mcnn_output_size(_size))\n\u001B[1;32m     17\u001B[0m     \u001B[38;5;28mself\u001B[39m\u001B[38;5;241m.\u001B[39mknowledge_graph \u001B[38;5;241m=\u001B[39m KnowledgeGraph()\n",
      "File \u001B[0;32m~/Desktop/Research/Memory/MemoryEncoder.py:21\u001B[0m, in \u001B[0;36mMemoryEncoder.__init__\u001B[0;34m(self, _size)\u001B[0m\n\u001B[1;32m      6\u001B[0m \u001B[38;5;28msuper\u001B[39m(MemoryEncoder, \u001B[38;5;28mself\u001B[39m)\u001B[38;5;241m.\u001B[39m\u001B[38;5;21m__init__\u001B[39m()\n\u001B[1;32m      7\u001B[0m \u001B[38;5;28mself\u001B[39m\u001B[38;5;241m.\u001B[39mvision_cnn_encoder \u001B[38;5;241m=\u001B[39m nn\u001B[38;5;241m.\u001B[39mSequential(\n\u001B[1;32m      8\u001B[0m     nn\u001B[38;5;241m.\u001B[39mConv2d(\u001B[38;5;241m3\u001B[39m, \u001B[38;5;241m16\u001B[39m, kernel_size\u001B[38;5;241m=\u001B[39m\u001B[38;5;241m5\u001B[39m),\n\u001B[1;32m      9\u001B[0m     nn\u001B[38;5;241m.\u001B[39mReLU(),\n\u001B[0;32m   (...)\u001B[0m\n\u001B[1;32m     17\u001B[0m     nn\u001B[38;5;241m.\u001B[39mReLU(),\n\u001B[1;32m     18\u001B[0m )\n\u001B[1;32m     20\u001B[0m \u001B[38;5;28mself\u001B[39m\u001B[38;5;241m.\u001B[39mvision_ann_encoder \u001B[38;5;241m=\u001B[39m nn\u001B[38;5;241m.\u001B[39mSequential(\n\u001B[0;32m---> 21\u001B[0m     \u001B[43mnn\u001B[49m\u001B[38;5;241;43m.\u001B[39;49m\u001B[43mLinear\u001B[49m\u001B[43m(\u001B[49m\u001B[38;5;28;43mself\u001B[39;49m\u001B[38;5;241;43m.\u001B[39;49m\u001B[43mann_input_size\u001B[49m\u001B[43m(\u001B[49m\u001B[43m_size\u001B[49m\u001B[43m)\u001B[49m\u001B[43m,\u001B[49m\u001B[43m \u001B[49m\u001B[38;5;241;43m512\u001B[39;49m\u001B[43m)\u001B[49m,\n\u001B[1;32m     22\u001B[0m     nn\u001B[38;5;241m.\u001B[39mSigmoid(),\n\u001B[1;32m     23\u001B[0m     nn\u001B[38;5;241m.\u001B[39mLinear(\u001B[38;5;241m512\u001B[39m, \u001B[38;5;241m300\u001B[39m),\n\u001B[1;32m     24\u001B[0m     nn\u001B[38;5;241m.\u001B[39mSigmoid(),\n\u001B[1;32m     25\u001B[0m     nn\u001B[38;5;241m.\u001B[39mLinear(\u001B[38;5;241m300\u001B[39m, \u001B[38;5;241m5\u001B[39m),\n\u001B[1;32m     26\u001B[0m )\n",
      "File \u001B[0;32m~/lib/python3.10/site-packages/torch/nn/modules/linear.py:96\u001B[0m, in \u001B[0;36mLinear.__init__\u001B[0;34m(self, in_features, out_features, bias, device, dtype)\u001B[0m\n\u001B[1;32m     94\u001B[0m \u001B[38;5;28mself\u001B[39m\u001B[38;5;241m.\u001B[39min_features \u001B[38;5;241m=\u001B[39m in_features\n\u001B[1;32m     95\u001B[0m \u001B[38;5;28mself\u001B[39m\u001B[38;5;241m.\u001B[39mout_features \u001B[38;5;241m=\u001B[39m out_features\n\u001B[0;32m---> 96\u001B[0m \u001B[38;5;28mself\u001B[39m\u001B[38;5;241m.\u001B[39mweight \u001B[38;5;241m=\u001B[39m Parameter(\u001B[43mtorch\u001B[49m\u001B[38;5;241;43m.\u001B[39;49m\u001B[43mempty\u001B[49m\u001B[43m(\u001B[49m\u001B[43m(\u001B[49m\u001B[43mout_features\u001B[49m\u001B[43m,\u001B[49m\u001B[43m \u001B[49m\u001B[43min_features\u001B[49m\u001B[43m)\u001B[49m\u001B[43m,\u001B[49m\u001B[43m \u001B[49m\u001B[38;5;241;43m*\u001B[39;49m\u001B[38;5;241;43m*\u001B[39;49m\u001B[43mfactory_kwargs\u001B[49m\u001B[43m)\u001B[49m)\n\u001B[1;32m     97\u001B[0m \u001B[38;5;28;01mif\u001B[39;00m bias:\n\u001B[1;32m     98\u001B[0m     \u001B[38;5;28mself\u001B[39m\u001B[38;5;241m.\u001B[39mbias \u001B[38;5;241m=\u001B[39m Parameter(torch\u001B[38;5;241m.\u001B[39mempty(out_features, \u001B[38;5;241m*\u001B[39m\u001B[38;5;241m*\u001B[39mfactory_kwargs))\n",
      "\u001B[0;31mRuntimeError\u001B[0m: [enforce fail at alloc_cpu.cpp:75] err == 0. DefaultCPUAllocator: can't allocate memory: you tried to allocate 38666371072 bytes. Error code 12 (Cannot allocate memory)"
     ]
    }
   ],
   "source": [
    "memo = Memory(_size=(3, 480, 640))"
   ],
   "metadata": {
    "collapsed": false,
    "ExecuteTime": {
     "end_time": "2023-09-06T18:44:02.495932115Z",
     "start_time": "2023-09-06T18:44:01.985585668Z"
    }
   }
  },
  {
   "cell_type": "code",
   "execution_count": null,
   "outputs": [],
   "source": [
    "import cv2 as cv\n",
    "\n",
    "\n",
    "cap = cv.VideoCapture(0)\n",
    "flag = True\n",
    "if not cap.isOpened():\n",
    "    flag = False\n",
    "    print(\"NO\")\n",
    "\n",
    "last_frame = None\n",
    "i = 0\n",
    "max_i = 10\n",
    "while flag:\n",
    "    ret, frame = cap.read()\n",
    "    if not ret:\n",
    "        print(\"No frame\")\n",
    "        break\n",
    "        \n",
    "    frame = cv.flip(frame, 1)\n",
    "    \n",
    "    memo.perceive_image(torch.FloatTensor(memo.unstack(frame)))\n",
    "    if i == max_i:\n",
    "        i = 0\n",
    "\n",
    "        \n",
    "        # memo.train_vision(plot_flag=True)\n",
    "        \n",
    "        x = memo.encoder.encode_image(torch.FloatTensor(memo.unstack(frame)))\n",
    "        recon_frame = memo.decoder.decode_image(x).detach().numpy()\n",
    "        print(frame.shape)\n",
    "        print(recon_frame.shape)\n",
    "        \n",
    "        fig, ax = plt.subplots(1, 2)\n",
    "        \n",
    "        ax[0].imshow(frame)\n",
    "        ax[1].imshow(np.stack(*recon_frame, axis=-1))\n",
    "        plt.show()\n",
    "        \n",
    "        print(\"MAXI\")\n",
    "    print(i)\n",
    "    \n",
    "    cv.imshow('frame', frame)\n",
    "    if cv.waitKey(1) == ord('q'):\n",
    "        break\n",
    "    i += 1\n",
    "\n",
    "cap.release()\n",
    "cv.destroyAllWindows()\n",
    "    \n",
    "    "
   ],
   "metadata": {
    "collapsed": false,
    "ExecuteTime": {
     "start_time": "2023-09-06T18:44:02.495834349Z"
    }
   }
  },
  {
   "cell_type": "code",
   "execution_count": null,
   "outputs": [],
   "source": [
    "cv.imshow('k', last_frame)\n",
    "cv.waitKey(0)  \n",
    "cv.destroyAllWindows()\n"
   ],
   "metadata": {
    "collapsed": false
   }
  },
  {
   "cell_type": "code",
   "execution_count": null,
   "outputs": [],
   "source": [
    "plt.imshow(255 - 179 * np.ones((480, 640, 3)).astype(int))"
   ],
   "metadata": {
    "collapsed": false
   }
  },
  {
   "cell_type": "code",
   "execution_count": null,
   "outputs": [],
   "source": [
    "A = torch.randn((1, 3, 2, 2))\n",
    "A"
   ],
   "metadata": {
    "collapsed": false
   }
  },
  {
   "cell_type": "code",
   "execution_count": null,
   "outputs": [],
   "source": [
    "A_rgb = np.stack(*A, axis=-1)\n",
    "A_rgb"
   ],
   "metadata": {
    "collapsed": false
   }
  },
  {
   "cell_type": "code",
   "execution_count": null,
   "outputs": [],
   "source": [
    "\n",
    "def unstack(img):\n",
    "    s = img.shape[-1]\n",
    "    return np.array([img[:, :, i] for i in range(s)])\n",
    "\n"
   ],
   "metadata": {
    "collapsed": false
   }
  }
 ],
 "metadata": {
  "kernelspec": {
   "display_name": "Python 3",
   "language": "python",
   "name": "python3"
  },
  "language_info": {
   "codemirror_mode": {
    "name": "ipython",
    "version": 2
   },
   "file_extension": ".py",
   "mimetype": "text/x-python",
   "name": "python",
   "nbconvert_exporter": "python",
   "pygments_lexer": "ipython2",
   "version": "2.7.6"
  }
 },
 "nbformat": 4,
 "nbformat_minor": 0
}
